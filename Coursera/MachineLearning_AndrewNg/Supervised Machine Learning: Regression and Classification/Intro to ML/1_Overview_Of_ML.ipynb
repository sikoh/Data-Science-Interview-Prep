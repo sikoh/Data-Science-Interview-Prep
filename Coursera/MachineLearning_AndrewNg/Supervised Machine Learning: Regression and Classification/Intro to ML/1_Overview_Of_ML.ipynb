### Learning objective
- Define ML
- Define Supervised learning
- Write and run Python code in Jupyter Notebooks
- Define a regression model
- Implement and visulaize a cost function
- Implement gradient descent
- Optimize a regression model using gradient descent

### Applications of ML
- Speech recognition
- computer vision for Google maps
- Street view images 
- Payment fraud
- Self driving cars.
